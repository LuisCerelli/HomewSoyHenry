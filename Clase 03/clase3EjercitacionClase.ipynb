{
 "cells": [
  {
   "cell_type": "code",
   "execution_count": 86,
   "metadata": {},
   "outputs": [],
   "source": [
    "import numpy as np"
   ]
  },
  {
   "cell_type": "code",
   "execution_count": 87,
   "metadata": {},
   "outputs": [
    {
     "name": "stdout",
     "output_type": "stream",
     "text": [
      "[1 2 3 4 5 6]\n",
      "[1, 2, 3, 4, 5, 6]\n"
     ]
    }
   ],
   "source": [
    "my_list = [1,2,3,4,5,6,]\n",
    "arr = np.array(my_list)\n",
    "print(arr)\n",
    "print(my_list)"
   ]
  },
  {
   "cell_type": "code",
   "execution_count": 88,
   "metadata": {},
   "outputs": [
    {
     "name": "stdout",
     "output_type": "stream",
     "text": [
      "[1 2 3 4 5 6 7 8 9]\n"
     ]
    }
   ],
   "source": [
    "arr = np.arange(start= 1,stop= 10,step= 1)\n",
    "print(arr)"
   ]
  },
  {
   "cell_type": "code",
   "execution_count": 89,
   "metadata": {},
   "outputs": [
    {
     "name": "stdout",
     "output_type": "stream",
     "text": [
      "[  1.   2.   3.   4.   5.   6.   7.   8.   9.  10.  11.  12.  13.  14.\n",
      "  15.  16.  17.  18.  19.  20.  21.  22.  23.  24.  25.  26.  27.  28.\n",
      "  29.  30.  31.  32.  33.  34.  35.  36.  37.  38.  39.  40.  41.  42.\n",
      "  43.  44.  45.  46.  47.  48.  49.  50.  51.  52.  53.  54.  55.  56.\n",
      "  57.  58.  59.  60.  61.  62.  63.  64.  65.  66.  67.  68.  69.  70.\n",
      "  71.  72.  73.  74.  75.  76.  77.  78.  79.  80.  81.  82.  83.  84.\n",
      "  85.  86.  87.  88.  89.  90.  91.  92.  93.  94.  95.  96.  97.  98.\n",
      "  99. 100.]\n"
     ]
    }
   ],
   "source": [
    "arr = np.linspace(start=1,stop=100,num=100)\n",
    "print(arr)"
   ]
  },
  {
   "cell_type": "code",
   "execution_count": 6,
   "metadata": {},
   "outputs": [
    {
     "name": "stdout",
     "output_type": "stream",
     "text": [
      "[0. 0. 0. 0. 0. 0. 0. 0. 0. 0.]\n"
     ]
    }
   ],
   "source": [
    "arr = np.zeros(10)\n",
    "print(arr)"
   ]
  },
  {
   "cell_type": "code",
   "execution_count": 7,
   "metadata": {},
   "outputs": [
    {
     "name": "stdout",
     "output_type": "stream",
     "text": [
      "[1. 1. 1. 1. 1. 1. 1. 1. 1. 1.]\n"
     ]
    }
   ],
   "source": [
    "arr = np.ones(10)\n",
    "print(arr)"
   ]
  },
  {
   "cell_type": "code",
   "execution_count": 8,
   "metadata": {},
   "outputs": [
    {
     "ename": "SyntaxError",
     "evalue": "expected argument value expression (732395115.py, line 1)",
     "output_type": "error",
     "traceback": [
      "\u001b[0;36m  Cell \u001b[0;32mIn[8], line 1\u001b[0;36m\u001b[0m\n\u001b[0;31m    arr = np.full(shape=)#atributo del array que es el tamaño,continua abajo:\u001b[0m\n\u001b[0m                  ^\u001b[0m\n\u001b[0;31mSyntaxError\u001b[0m\u001b[0;31m:\u001b[0m expected argument value expression\n"
     ]
    }
   ],
   "source": [
    "arr = np.full(shape=)#atributo del array que es el tamaño,continua abajo:"
   ]
  },
  {
   "cell_type": "code",
   "execution_count": 9,
   "metadata": {},
   "outputs": [
    {
     "data": {
      "text/plain": [
       "(10,)"
      ]
     },
     "execution_count": 9,
     "metadata": {},
     "output_type": "execute_result"
    }
   ],
   "source": [
    "arr.shape"
   ]
  },
  {
   "cell_type": "code",
   "execution_count": 10,
   "metadata": {},
   "outputs": [
    {
     "name": "stdout",
     "output_type": "stream",
     "text": [
      "[[7 7]\n",
      " [7 7]\n",
      " [7 7]\n",
      " [7 7]]\n"
     ]
    }
   ],
   "source": [
    "arr = np.full(shape=(4,2), fill_value=7)\n",
    "print(arr)"
   ]
  },
  {
   "cell_type": "markdown",
   "metadata": {},
   "source": [
    "O sea, aca arriba crea un array bidimensional de dos dimensiones(marcado por el doble corchete[[]]) y si hago:"
   ]
  },
  {
   "cell_type": "code",
   "execution_count": 13,
   "metadata": {},
   "outputs": [
    {
     "name": "stdout",
     "output_type": "stream",
     "text": [
      "(4, 2)\n"
     ]
    }
   ],
   "source": [
    "print(arr.shape)# Nos dice que tiene 4 x 2, 4 filas por 2 colomnas"
   ]
  },
  {
   "cell_type": "code",
   "execution_count": 15,
   "metadata": {},
   "outputs": [
    {
     "name": "stdout",
     "output_type": "stream",
     "text": [
      "[[4.41 4.41 4.41 4.41 4.41 4.41]\n",
      " [4.41 4.41 4.41 4.41 4.41 4.41]]\n",
      "[[5. 5. 5. 5. 5. 5.]\n",
      " [5. 5. 5. 5. 5. 5.]]\n"
     ]
    }
   ],
   "source": [
    "base = np.full(shape=(2,6), fill_value=4.41)# Array de dimension 2,6 y los valores van a ser 4,41\n",
    "print(base)\n",
    "print(np.full_like(base, 5))"
   ]
  },
  {
   "cell_type": "markdown",
   "metadata": {},
   "source": [
    "O sea, rellena un nuevo array que copiando la cantidad de elemtos del shake(las 2 filas con 6 columnas y las va a rellenar con el valor asignado luego de la palabra base)"
   ]
  },
  {
   "cell_type": "code",
   "execution_count": 16,
   "metadata": {},
   "outputs": [
    {
     "name": "stdout",
     "output_type": "stream",
     "text": [
      "[[4.41 4.41 4.41 4.41 4.41 4.41]\n",
      " [4.41 4.41 4.41 4.41 4.41 4.41]]\n",
      "[[3.14159265 3.14159265 3.14159265 3.14159265 3.14159265 3.14159265]\n",
      " [3.14159265 3.14159265 3.14159265 3.14159265 3.14159265 3.14159265]]\n"
     ]
    }
   ],
   "source": [
    "base = np.full(shape=(2,6), fill_value=4.41)# Array de dimension 2,6 y los valores van a ser 4,41\n",
    "print(base)\n",
    "print(np.full_like(base, np.pi))"
   ]
  },
  {
   "cell_type": "markdown",
   "metadata": {},
   "source": [
    "En lo anterior cambiamos el valor de 5 por el valor de pi, ya que la libreria tambien lo tiene"
   ]
  },
  {
   "cell_type": "markdown",
   "metadata": {},
   "source": [
    "# Crear Arrays con numeros aleatorios"
   ]
  },
  {
   "cell_type": "code",
   "execution_count": 23,
   "metadata": {},
   "outputs": [
    {
     "name": "stdout",
     "output_type": "stream",
     "text": [
      "[[0.66240146 0.52596896]\n",
      " [0.77924985 0.70627153]\n",
      " [0.45151778 0.94665824]\n",
      " [0.24155659 0.63370145]]\n"
     ]
    }
   ],
   "source": [
    "arr = np.random.rand(4,2)\n",
    "print(arr)"
   ]
  },
  {
   "cell_type": "markdown",
   "metadata": {},
   "source": [
    "cada vez que renderizo, me da numeros aleatorios, sin poner negativos"
   ]
  },
  {
   "cell_type": "code",
   "execution_count": 25,
   "metadata": {},
   "outputs": [
    {
     "ename": "ValueError",
     "evalue": "low >= high",
     "output_type": "error",
     "traceback": [
      "\u001b[0;31m---------------------------------------------------------------------------\u001b[0m",
      "\u001b[0;31mValueError\u001b[0m                                Traceback (most recent call last)",
      "Cell \u001b[0;32mIn[25], line 1\u001b[0m\n\u001b[0;32m----> 1\u001b[0m arr \u001b[38;5;241m=\u001b[39m \u001b[43mnp\u001b[49m\u001b[38;5;241;43m.\u001b[39;49m\u001b[43mrandom\u001b[49m\u001b[38;5;241;43m.\u001b[39;49m\u001b[43mrandint\u001b[49m\u001b[43m(\u001b[49m\u001b[38;5;241;43m4\u001b[39;49m\u001b[43m,\u001b[49m\u001b[38;5;241;43m2\u001b[39;49m\u001b[43m)\u001b[49m\n\u001b[1;32m      2\u001b[0m \u001b[38;5;28mprint\u001b[39m(arr)\n",
      "File \u001b[0;32mnumpy/random/mtrand.pyx:782\u001b[0m, in \u001b[0;36mnumpy.random.mtrand.RandomState.randint\u001b[0;34m()\u001b[0m\n",
      "File \u001b[0;32mnumpy/random/_bounded_integers.pyx:1334\u001b[0m, in \u001b[0;36mnumpy.random._bounded_integers._rand_int64\u001b[0;34m()\u001b[0m\n",
      "\u001b[0;31mValueError\u001b[0m: low >= high"
     ]
    }
   ],
   "source": [
    "arr = np.random.randint(4,2)\n",
    "print(arr)"
   ]
  },
  {
   "cell_type": "markdown",
   "metadata": {},
   "source": [
    "A lo anterior el profesor TAMPOCO lo resolvio"
   ]
  },
  {
   "cell_type": "code",
   "execution_count": 38,
   "metadata": {},
   "outputs": [
    {
     "name": "stdout",
     "output_type": "stream",
     "text": [
      "[[1.52902787 3.96268438]\n",
      " [4.97849813 6.740047  ]]\n"
     ]
    }
   ],
   "source": [
    "arr = np.random.uniform(low=0, high=10, size=(2,2))\n",
    "print(arr)"
   ]
  },
  {
   "cell_type": "markdown",
   "metadata": {},
   "source": [
    "En lo anterior le pongo desde que numero hasta que numero quiero que sea el random..."
   ]
  },
  {
   "cell_type": "code",
   "execution_count": 39,
   "metadata": {},
   "outputs": [
    {
     "name": "stdout",
     "output_type": "stream",
     "text": [
      "[[ 1.44615558 -2.30013787]\n",
      " [ 0.15691629  0.15025233]\n",
      " [ 0.61296144 -0.40025598]\n",
      " [ 1.68562744  0.30544285]]\n"
     ]
    }
   ],
   "source": [
    "#Trabajando con numeros negativos:\n",
    "arr = np.random.randn(4,2)\n",
    "print(arr)"
   ]
  },
  {
   "cell_type": "markdown",
   "metadata": {},
   "source": [
    "Arriba a veces tenemos numeros negativos y otras no... depende del random, pero lo importante es que han aparecido los negativos"
   ]
  },
  {
   "cell_type": "code",
   "execution_count": 47,
   "metadata": {},
   "outputs": [
    {
     "name": "stdout",
     "output_type": "stream",
     "text": [
      "[7.03267988 3.68165166 2.44833406 4.71973711 6.26107763 4.27482551]\n"
     ]
    }
   ],
   "source": [
    "# Distribucion Normal\n",
    "arr = np.random.normal(loc=5, scale=1, size=6)#el cual es un array unidimensional scale es la desviacion standar\n",
    "print(arr)"
   ]
  },
  {
   "cell_type": "markdown",
   "metadata": {},
   "source": [
    "# Tamańo de Arrays"
   ]
  },
  {
   "cell_type": "code",
   "execution_count": 50,
   "metadata": {},
   "outputs": [
    {
     "name": "stdout",
     "output_type": "stream",
     "text": [
      "(9,)\n",
      "[0. 0. 0. 0. 0. 0. 0. 0. 0.]\n"
     ]
    }
   ],
   "source": [
    "arr = np.zeros(9)\n",
    "print(arr.shape)\n",
    "print(arr)"
   ]
  },
  {
   "cell_type": "code",
   "execution_count": 52,
   "metadata": {},
   "outputs": [
    {
     "name": "stdout",
     "output_type": "stream",
     "text": [
      "[[0. 0. 0.]\n",
      " [0. 0. 0.]\n",
      " [0. 0. 0.]]\n",
      "(3, 3)\n"
     ]
    }
   ],
   "source": [
    "#supongamos que queremos que, en vez de 9 elementos, queremos que sea de 3x3, creando una nueva matriz\n",
    "b = np.reshape(arr,[3,3])\n",
    "print(b)\n",
    "print(b.shape)"
   ]
  },
  {
   "cell_type": "markdown",
   "metadata": {},
   "source": [
    "Atencion, en lo anterior no puedo pretender que un array de 9 elementos este en un 2 x 3, ya que no va a dar... debe ser de 3 x 3 elementos...Debe ser uniforme"
   ]
  },
  {
   "cell_type": "code",
   "execution_count": 53,
   "metadata": {},
   "outputs": [
    {
     "name": "stdout",
     "output_type": "stream",
     "text": [
      "(3, 3)\n"
     ]
    }
   ],
   "source": [
    "print(b.shape)# o sea: forma.-"
   ]
  },
  {
   "cell_type": "code",
   "execution_count": 75,
   "metadata": {},
   "outputs": [
    {
     "name": "stdout",
     "output_type": "stream",
     "text": [
      "[0 1 2 3 4]\n",
      "[ 8  9 10 11 12 13 14]\n",
      "[[ 0  1  2  3]\n",
      " [ 4  5  6  7]\n",
      " [ 8  9 10 11]\n",
      " [12 13 14 15]]\n"
     ]
    }
   ],
   "source": [
    "# 25,54 Lo que hace \"arange\" es colocar los numeros ordenados(si va solo es tácito, si son dos de tal a tal en un array), por ejemplo:\n",
    "matrix = np.arange(5)\n",
    "print(matrix)\n",
    "matrix = np.arange(8, 15)\n",
    "print(matrix)\n",
    "# y a \"arange\" le agregamos \"reshape para que cree las filas y columnas\"\n",
    "matrix = np.arange(16).reshape(4,4)\n",
    "print(matrix)#buscar en google que es arange"
   ]
  },
  {
   "cell_type": "markdown",
   "metadata": {},
   "source": [
    "# Slicing con arrays"
   ]
  },
  {
   "cell_type": "code",
   "execution_count": 60,
   "metadata": {},
   "outputs": [
    {
     "name": "stdout",
     "output_type": "stream",
     "text": [
      "[0 1 2 3]\n"
     ]
    }
   ],
   "source": [
    "print(matrix[0])#con esto accedo a la primer fila"
   ]
  },
  {
   "cell_type": "code",
   "execution_count": 57,
   "metadata": {},
   "outputs": [
    {
     "name": "stdout",
     "output_type": "stream",
     "text": [
      "1\n"
     ]
    }
   ],
   "source": [
    "print(matrix[0,1])#Aca le pido que me de lo que esta en fila 0, columna 1, el cual es el 1..."
   ]
  },
  {
   "cell_type": "code",
   "execution_count": 64,
   "metadata": {},
   "outputs": [
    {
     "name": "stdout",
     "output_type": "stream",
     "text": [
      "[ 2  6 10 14]\n"
     ]
    }
   ],
   "source": [
    "#27,46. Acceder solo a una columna\n",
    "print(matrix[:,2])\n",
    "#Para que ésto funcione, NO OLVIDAR de colocar los dos puntos(:) antes de la coma (,)"
   ]
  },
  {
   "cell_type": "markdown",
   "metadata": {},
   "source": [
    "# Copiar arrays"
   ]
  },
  {
   "cell_type": "code",
   "execution_count": 65,
   "metadata": {},
   "outputs": [
    {
     "name": "stdout",
     "output_type": "stream",
     "text": [
      "[[ 0  1  2  3]\n",
      " [ 4  5  6  7]\n",
      " [ 8  9 10 11]\n",
      " [12 13 14 15]]\n",
      "[[ 0  1  2  3]\n",
      " [ 4  5  6  7]\n",
      " [ 8  9 10 11]\n",
      " [12 13 14 15]]\n"
     ]
    }
   ],
   "source": [
    "matrix_b = matrix #y ya esta copiado\n",
    "print(matrix)\n",
    "print(matrix_b)"
   ]
  },
  {
   "cell_type": "markdown",
   "metadata": {},
   "source": [
    "Para comprobar que son iguales, lo probamos a traves del id:"
   ]
  },
  {
   "cell_type": "code",
   "execution_count": 67,
   "metadata": {},
   "outputs": [
    {
     "name": "stdout",
     "output_type": "stream",
     "text": [
      "4492637840\n",
      "4492637840\n"
     ]
    }
   ],
   "source": [
    "#30,52\n",
    "print(id(matrix))\n",
    "print(id(matrix_b))\n",
    "# o sea, tienen la misma porción de memoria, estan apuntando al mismo lugar, pero lo que queremos es hacer una copia para trabajar por separado, para ello np tiene .copy:"
   ]
  },
  {
   "cell_type": "code",
   "execution_count": 69,
   "metadata": {},
   "outputs": [
    {
     "name": "stdout",
     "output_type": "stream",
     "text": [
      "[[ 0  1  2  3]\n",
      " [ 4  5  6  7]\n",
      " [ 8  9 10 11]\n",
      " [12 13 14 15]]\n",
      "[[ 0  1  2  3]\n",
      " [ 4  5  6  7]\n",
      " [ 8  9 10 11]\n",
      " [12 13 14 15]]\n"
     ]
    }
   ],
   "source": [
    "matrix_b = matrix.copy()\n",
    "print(matrix)\n",
    "print(matrix_b)\n",
    "#aca vemos que son iguales...peeero:"
   ]
  },
  {
   "cell_type": "code",
   "execution_count": 71,
   "metadata": {},
   "outputs": [
    {
     "name": "stdout",
     "output_type": "stream",
     "text": [
      "4492637840\n",
      "4369778704\n"
     ]
    }
   ],
   "source": [
    "#si le pedimos el id:\n",
    "print(id(matrix))\n",
    "print(id(matrix_b))\n",
    "#ya vemos que el lugar que ocupan en memoria ya son diferentes, por lo tanto, todo lo que haga en uno NO AFECTA en el otro..."
   ]
  },
  {
   "cell_type": "markdown",
   "metadata": {},
   "source": [
    "#Operaciones con arrays (32,52)\n",
    "En Numpay"
   ]
  },
  {
   "cell_type": "code",
   "execution_count": 76,
   "metadata": {},
   "outputs": [
    {
     "name": "stdout",
     "output_type": "stream",
     "text": [
      "[5 6 7 8 9]\n"
     ]
    }
   ],
   "source": [
    "a = np.arange(5,10)\n",
    "print(a)"
   ]
  },
  {
   "cell_type": "code",
   "execution_count": 78,
   "metadata": {},
   "outputs": [
    {
     "name": "stdout",
     "output_type": "stream",
     "text": [
      "[15 16 17 18 19]\n"
     ]
    }
   ],
   "source": [
    "#sumar la cantidad 10:\n",
    "print(a + 10)\n",
    "# o sea, lo hace con CADA UNO de los elementos"
   ]
  },
  {
   "cell_type": "code",
   "execution_count": 79,
   "metadata": {},
   "outputs": [
    {
     "name": "stdout",
     "output_type": "stream",
     "text": [
      "[-5 -4 -3 -2 -1]\n"
     ]
    }
   ],
   "source": [
    "#resta:\n",
    "print(a - 10)\n",
    "#hace lo mismo pero inverso a la suma"
   ]
  },
  {
   "cell_type": "code",
   "execution_count": 81,
   "metadata": {},
   "outputs": [
    {
     "name": "stdout",
     "output_type": "stream",
     "text": [
      "[3 3 3 3]\n",
      "[1 1 1 1]\n"
     ]
    }
   ],
   "source": [
    "#34,27\n",
    "b = np.full(4,3)#o sea: de tamaño 4 y lleno de 3...\n",
    "c = np.ones(4, dtype='int')#el dtype es un atributo que marca el tipo de elemento que van a contener sus datos\n",
    "print(b)\n",
    "print(c)"
   ]
  },
  {
   "cell_type": "code",
   "execution_count": 82,
   "metadata": {},
   "outputs": [
    {
     "name": "stdout",
     "output_type": "stream",
     "text": [
      "[2 2 2 2]\n"
     ]
    }
   ],
   "source": [
    "print(b - c)"
   ]
  },
  {
   "cell_type": "code",
   "execution_count": 83,
   "metadata": {},
   "outputs": [
    {
     "name": "stdout",
     "output_type": "stream",
     "text": [
      "[4 4 4 4]\n"
     ]
    }
   ],
   "source": [
    "print(b + c)"
   ]
  },
  {
   "cell_type": "markdown",
   "metadata": {},
   "source": [
    "Multiplicaciones:\n",
    "Utilizaremos una funcion que se llama np.matmul"
   ]
  },
  {
   "cell_type": "code",
   "execution_count": 84,
   "metadata": {},
   "outputs": [
    {
     "name": "stdout",
     "output_type": "stream",
     "text": [
      "12\n"
     ]
    }
   ],
   "source": [
    "#35,50\n",
    "#para multiplicar deben coincidir las filas y columnas de los arrays:\n",
    "print(np.matmul(b,c))"
   ]
  },
  {
   "cell_type": "code",
   "execution_count": 91,
   "metadata": {},
   "outputs": [
    {
     "name": "stdout",
     "output_type": "stream",
     "text": [
      "[[2 3]\n",
      " [2 3]\n",
      " [2 3]]\n",
      "[[1 6 5 2 7]\n",
      " [1 2 7 0 9]]\n"
     ]
    }
   ],
   "source": [
    "#36,54\n",
    "a = np.array([[2,3],[2,3],[2,3]])\n",
    "b = np.array([[1,6,5,2,7],[1,2,7,0,9]])\n",
    "\n",
    "print(a)\n",
    "print(b)"
   ]
  },
  {
   "cell_type": "code",
   "execution_count": 92,
   "metadata": {},
   "outputs": [
    {
     "data": {
      "text/plain": [
       "array([[ 5, 18, 31,  4, 41],\n",
       "       [ 5, 18, 31,  4, 41],\n",
       "       [ 5, 18, 31,  4, 41]])"
      ]
     },
     "execution_count": 92,
     "metadata": {},
     "output_type": "execute_result"
    }
   ],
   "source": [
    "np.matmul(a,b)\n",
    "#devuelve un array con la multiplicacion de cada uno de los elementos"
   ]
  },
  {
   "cell_type": "code",
   "execution_count": 93,
   "metadata": {},
   "outputs": [
    {
     "name": "stdout",
     "output_type": "stream",
     "text": [
      "[[ 5 18 31  4 41]\n",
      " [ 5 18 31  4 41]\n",
      " [ 5 18 31  4 41]]\n"
     ]
    }
   ],
   "source": [
    "#Tambien tenemos otra forma de hadder multiplicaciones:\n",
    "print(a@b) #y Voila... ahorra tener que ponerle matmul y todo eso..."
   ]
  },
  {
   "cell_type": "code",
   "execution_count": 96,
   "metadata": {},
   "outputs": [
    {
     "name": "stdout",
     "output_type": "stream",
     "text": [
      "[[2 3]\n",
      " [2 3]\n",
      " [2 3]]\n",
      "---------------\n",
      "[[2 2 2]\n",
      " [3 3 3]]\n"
     ]
    }
   ],
   "source": [
    "#Transpuesta: intercambia las filas por las columnas 38,00\n",
    "print(a)\n",
    "print('-'*15)\n",
    "print(a.T)#\"T\" este es el metodo de la transpuesta\n"
   ]
  },
  {
   "cell_type": "code",
   "execution_count": 97,
   "metadata": {},
   "outputs": [
    {
     "name": "stdout",
     "output_type": "stream",
     "text": [
      "[0 1 2 3]\n"
     ]
    }
   ],
   "source": [
    "#38,53\n",
    "a = np.arange(4)\n",
    "print(a)"
   ]
  },
  {
   "cell_type": "code",
   "execution_count": 98,
   "metadata": {},
   "outputs": [
    {
     "name": "stdout",
     "output_type": "stream",
     "text": [
      "[0.  0.5 1.  1.5]\n",
      "[0 0 1 1]\n"
     ]
    }
   ],
   "source": [
    "#Divisiones:\n",
    "print(a / 2)\n",
    "print(a // 2)"
   ]
  },
  {
   "cell_type": "code",
   "execution_count": 99,
   "metadata": {},
   "outputs": [
    {
     "name": "stdout",
     "output_type": "stream",
     "text": [
      "[0 1 4 9]\n"
     ]
    }
   ],
   "source": [
    "#Potenciaciones: 39,48\n",
    "print(a ** 2\n",
    "      )"
   ]
  },
  {
   "cell_type": "code",
   "execution_count": 100,
   "metadata": {},
   "outputs": [
    {
     "name": "stdout",
     "output_type": "stream",
     "text": [
      "[ 0 -1 -2 -3]\n"
     ]
    }
   ],
   "source": [
    "#Invertir los numeros en negativos:\n",
    "print(-a)"
   ]
  },
  {
   "cell_type": "code",
   "execution_count": 101,
   "metadata": {},
   "outputs": [
    {
     "name": "stdout",
     "output_type": "stream",
     "text": [
      "[0 1 0 1]\n"
     ]
    }
   ],
   "source": [
    "#Resto de la Division:\n",
    "print(a % 2)"
   ]
  },
  {
   "cell_type": "markdown",
   "metadata": {},
   "source": [
    "# Estadistica: 40,39"
   ]
  },
  {
   "cell_type": "code",
   "execution_count": 105,
   "metadata": {},
   "outputs": [],
   "source": [
    "#Supongamos que tenemos una lista de alumnos con su altura, y tenemos que hacer un EDA:(Analisis exploratorio y estadistica)\n",
    "# a la lista la vamos a trabajar como lista, no como array:\n",
    "heigh_list = [1.70,1.85,1.90,1.65,1.48,1.75,1.69,1.84,1.73,1.79,1.62,1.59]\n"
   ]
  },
  {
   "cell_type": "code",
   "execution_count": 107,
   "metadata": {},
   "outputs": [
    {
     "name": "stdout",
     "output_type": "stream",
     "text": [
      "1.7158333333333333\n"
     ]
    }
   ],
   "source": [
    "# la media nos va a devolver la sumatoria de cada uno de estos elementos, dividida por la cantidad de elementos totales:\n",
    "print(np.mean(heigh_list))"
   ]
  },
  {
   "cell_type": "code",
   "execution_count": 111,
   "metadata": {},
   "outputs": [
    {
     "name": "stdout",
     "output_type": "stream",
     "text": [
      "1.7149999999999999\n"
     ]
    }
   ],
   "source": [
    "#42m15 ahra la mediana, que es el punto medio de nuestros  elementos\n",
    "print(np.median(heigh_list))\n",
    "# o sea: el PUNTO MEDIO de nuestros elementos, aca si saca un promedio"
   ]
  },
  {
   "cell_type": "code",
   "execution_count": 112,
   "metadata": {},
   "outputs": [
    {
     "name": "stdout",
     "output_type": "stream",
     "text": [
      "0.11550312646081155\n"
     ]
    }
   ],
   "source": [
    "# Tambien tenemos la desviacion estandar, para saber que tan dispersos estan nuestros datos:\n",
    "print(np.std(heigh_list))"
   ]
  },
  {
   "cell_type": "code",
   "execution_count": 113,
   "metadata": {},
   "outputs": [
    {
     "name": "stdout",
     "output_type": "stream",
     "text": [
      "1.8490000000000002\n"
     ]
    }
   ],
   "source": [
    "# y el percentil, o sea devuelve el percentil quésimo de los datos, a lo largo de un eje especificado:\n",
    "print(np.percentile(heigh_list, q=90))#Este valor debe estar entre 0 y 100 "
   ]
  },
  {
   "cell_type": "code",
   "execution_count": 114,
   "metadata": {},
   "outputs": [
    {
     "name": "stdout",
     "output_type": "stream",
     "text": [
      "[5.47394739 6.35981952 6.68589444 5.20697983 4.39294568 5.75460268\n",
      " 5.41948071 6.29653826 5.64065391 5.98945247 5.05309032 4.90374893]\n"
     ]
    }
   ],
   "source": [
    "# valor exponencial de una lista:\n",
    "print(np.exp(heigh_list))"
   ]
  },
  {
   "cell_type": "code",
   "execution_count": 115,
   "metadata": {},
   "outputs": [
    {
     "name": "stdout",
     "output_type": "stream",
     "text": [
      "[0.53062825 0.61518564 0.64185389 0.50077529 0.39204209 0.55961579\n",
      " 0.52472853 0.60976557 0.54812141 0.58221562 0.48242615 0.46373402]\n"
     ]
    }
   ],
   "source": [
    "#Logaritmo \"natural\"\n",
    "print(np.log(heigh_list))\n",
    "# obvio para cada uno de los elementos"
   ]
  },
  {
   "cell_type": "code",
   "execution_count": 116,
   "metadata": {},
   "outputs": [
    {
     "name": "stdout",
     "output_type": "stream",
     "text": [
      "[1.30384048 1.36014705 1.37840488 1.28452326 1.21655251 1.32287566\n",
      " 1.3        1.356466   1.31529464 1.33790882 1.27279221 1.26095202]\n"
     ]
    }
   ],
   "source": [
    "# Raiz Cuadrada:\n",
    "print(np.sqrt(heigh_list))\n",
    "# Tambien para cada uno de los elementos"
   ]
  },
  {
   "cell_type": "code",
   "execution_count": 117,
   "metadata": {},
   "outputs": [
    {
     "name": "stdout",
     "output_type": "stream",
     "text": [
      "[1.95110375 1.95274239 1.92741245 1.94304479 1.99647638 1.94303754\n",
      " 1.98133867 1.98590175 1.97700998 1.91035727 1.9770088  1.93232699]\n",
      "[1.63945592 1.66289368 1.41833916 1.61182097 1.75278755 1.59568745\n",
      " 1.92382968 1.96968545 1.70897638 1.88662357 1.81425908 1.87587318]\n"
     ]
    }
   ],
   "source": [
    "# 45,14\n",
    "#Funcion que compara si los elementos son mayores o no, devuelve booleanos:\n",
    "a = np.random.uniform(low=1.9, high=2.0, size=12)\n",
    "b = np.random.uniform(low=1.4, high=2.0, size=12)\n",
    "print(a)\n",
    "print(b)"
   ]
  },
  {
   "cell_type": "code",
   "execution_count": 119,
   "metadata": {},
   "outputs": [
    {
     "data": {
      "text/plain": [
       "array([ True,  True,  True,  True,  True,  True,  True,  True,  True,\n",
       "        True,  True,  True])"
      ]
     },
     "execution_count": 119,
     "metadata": {},
     "output_type": "execute_result"
    }
   ],
   "source": [
    "# 46,35\n",
    "np.greater(a, b)\n",
    "# y aca devuelve si a es > que b y viceversa"
   ]
  },
  {
   "cell_type": "code",
   "execution_count": 121,
   "metadata": {},
   "outputs": [
    {
     "name": "stdout",
     "output_type": "stream",
     "text": [
      "[[ 0  1  2  3  4  5  6  7  8  9]\n",
      " [10 11 12 13 14 15 16 17 18 19]]\n"
     ]
    }
   ],
   "source": [
    "# Y asi entramos al tema de las mascaras, con las cuales manipulamos y seleccionamos elementos de un subconjunto en un array que tengan ciertas condiciones, ciertos filtros. O sea: es una matriz booleana cuyos elementos deben corresponder con el elemento original, la mascara va a ser del mismoo tamaño, del mismo shape, y solo se ve cambiado el T o F:\n",
    "arr = np.arange(0,20).reshape(2,10)\n",
    "print(arr)"
   ]
  },
  {
   "cell_type": "code",
   "execution_count": 123,
   "metadata": {},
   "outputs": [
    {
     "name": "stdout",
     "output_type": "stream",
     "text": [
      "[[ True False  True False  True False  True False  True False]\n",
      " [ True False  True False  True False  True False  True False]]\n"
     ]
    }
   ],
   "source": [
    "# Ver solo los pares:para ello razonamos que, sabiendo que par o impar es todo numero cuyo resto de 2 da 0 ó 1...\n",
    "mask = ((arr % 2))  == 0\n",
    "# por lo tanto el resultado sera T o F, de acuerdo si son pares o no...\n",
    "print(mask)"
   ]
  },
  {
   "cell_type": "code",
   "execution_count": 124,
   "metadata": {},
   "outputs": [
    {
     "name": "stdout",
     "output_type": "stream",
     "text": [
      "[ 0  2  4  6  8 10 12 14 16 18]\n"
     ]
    }
   ],
   "source": [
    "# 49,35\n",
    "# pero me da T o F, sin embargo QUEREMOS VER los elementos, para ello indexamos:\n",
    "print(arr[mask])\n",
    "# y asi devuelve SOLO LOS VALORES que responden afirmativamente a la consigna dada"
   ]
  },
  {
   "cell_type": "code",
   "execution_count": 125,
   "metadata": {},
   "outputs": [
    {
     "name": "stdout",
     "output_type": "stream",
     "text": [
      "[ 1  3  5  7  9 11 13 15 17 19]\n"
     ]
    }
   ],
   "source": [
    "# Tambien puedo armar la \"mascara\" adentro de print:\n",
    "print(arr[((arr % 2) == 1)])\n",
    "# pero es mas entendible el anterior"
   ]
  },
  {
   "cell_type": "code",
   "execution_count": null,
   "metadata": {},
   "outputs": [],
   "source": [
    "# 50.30\n",
    "# Todas las mascaras funcionan con todo los operadores"
   ]
  },
  {
   "cell_type": "markdown",
   "metadata": {},
   "source": [
    "Pista de la tarea: \n",
    "Ejercicio 4 hacer slicing"
   ]
  }
 ],
 "metadata": {
  "kernelspec": {
   "display_name": "Python 3",
   "language": "python",
   "name": "python3"
  },
  "language_info": {
   "codemirror_mode": {
    "name": "ipython",
    "version": 3
   },
   "file_extension": ".py",
   "mimetype": "text/x-python",
   "name": "python",
   "nbconvert_exporter": "python",
   "pygments_lexer": "ipython3",
   "version": "3.12.1"
  }
 },
 "nbformat": 4,
 "nbformat_minor": 2
}
